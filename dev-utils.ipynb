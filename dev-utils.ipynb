{
 "cells": [
  {
   "cell_type": "markdown",
   "metadata": {},
   "source": [
    "# Development Notebook\n",
    "\n",
    "In this Notebook we will develop the functions used in our Streamlit EV Adoption Tracker APP"
   ]
  },
  {
   "cell_type": "code",
   "execution_count": 16,
   "metadata": {},
   "outputs": [],
   "source": [
    "import pandas as pd"
   ]
  },
  {
   "cell_type": "code",
   "execution_count": 17,
   "metadata": {},
   "outputs": [],
   "source": [
    "ev_url = \"https://api.iea.org/evs?parameters=EV%20sales&category=Historical&mode=Cars&csv=true\""
   ]
  },
  {
   "cell_type": "code",
   "execution_count": null,
   "metadata": {},
   "outputs": [],
   "source": [
    "ev_df = pd.read_csv(ev_url)\n",
    "ev_df.head()\n"
   ]
  },
  {
   "cell_type": "code",
   "execution_count": null,
   "metadata": {},
   "outputs": [],
   "source": [
    "# loop through the columns and display all the unique classes for categorical columns and basic stats for numerical columns\n",
    "for col in ev_df.columns:\n",
    "    print(f'Column: {col}')\n",
    "    if ev_df[col].dtype == \"object\":\n",
    "        print(f'{col}:{ev_df[col].unique()}')\n",
    "        print(\"\\n\")\n",
    "    else:\n",
    "        print(f'{col}:{ev_df[col].describe()}')\n",
    "        print(\"\\n\")\n"
   ]
  },
  {
   "cell_type": "code",
   "execution_count": 20,
   "metadata": {},
   "outputs": [],
   "source": [
    "# drop the columns that are not needed category, mode unit\n",
    "ev_df = ev_df.drop(columns=[\"category\", \"mode\", \"unit\"])"
   ]
  },
  {
   "cell_type": "code",
   "execution_count": 21,
   "metadata": {},
   "outputs": [],
   "source": [
    "# budling a filter to datafram where parameter is EV sales\n",
    "ev_sales_df = ev_df[ev_df[\"parameter\"] == \"EV sales\"]\n",
    "ev_sales_share_df = ev_df[ev_df[\"parameter\"] == \"EV sales share\"]\n",
    "\n",
    "#drop the parameter column on both dataframes\n",
    "ev_df = ev_df.drop(columns=[\"parameter\"])\n",
    "ev_sales_share_df = ev_sales_share_df.drop(columns=[\"parameter\"])"
   ]
  },
  {
   "cell_type": "code",
   "execution_count": null,
   "metadata": {},
   "outputs": [],
   "source": [
    "ev_sales_df.head()"
   ]
  },
  {
   "cell_type": "code",
   "execution_count": 23,
   "metadata": {},
   "outputs": [],
   "source": [
    "# drop the powertrain column\n",
    "ev_sales_share_df = ev_sales_share_df.drop(columns=[\"powertrain\"])\n"
   ]
  },
  {
   "cell_type": "code",
   "execution_count": null,
   "metadata": {},
   "outputs": [],
   "source": [
    "ev_sales_share_df.head()"
   ]
  },
  {
   "cell_type": "code",
   "execution_count": 25,
   "metadata": {},
   "outputs": [],
   "source": [
    "# create a function that load the data from the a specific url, bulding a filter of sales share and sales per region an creates two dataframes\n",
    "def load_data():\n",
    "    url = \"https://api.iea.org/evs?parameters=EV%20sales&category=Historical&mode=Cars&csv=true\"\n",
    "    ev_df = pd.read_csv(url)\n",
    "    ev_sales_df = ev_df[ev_df[\"parameter\"] == \"EV sales\"]\n",
    "    ev_sales_share_df = ev_df[ev_df[\"parameter\"] == \"EV sales share\"]\n",
    "    #drop the columns that are not needed from both dataframes category, mode, unit and build a filter where parameter is EV sales and EV sales share\n",
    "    ev_sales_df = ev_sales_df.drop(columns=[\"category\", \"mode\", \"unit\", \"parameter\"])\n",
    "    ev_sales_share_df = ev_sales_share_df.drop(columns=[\"category\", \"mode\", \"unit\", \"parameter\", \"powertrain\"])\n",
    "    return ev_sales_df, ev_sales_share_df"
   ]
  },
  {
   "cell_type": "code",
   "execution_count": 26,
   "metadata": {},
   "outputs": [],
   "source": [
    "(a,b) = load_data()"
   ]
  },
  {
   "cell_type": "code",
   "execution_count": null,
   "metadata": {},
   "outputs": [],
   "source": [
    "display(a.head())\n",
    "display(b.head())"
   ]
  },
  {
   "cell_type": "markdown",
   "metadata": {},
   "source": [
    "### top sales by country\n",
    "this function will take in the sales df and return a sorted df with the top 10 countries with most sales"
   ]
  },
  {
   "cell_type": "code",
   "execution_count": 28,
   "metadata": {},
   "outputs": [],
   "source": [
    "# filter the df to only include the year 2023\n",
    "ev_sales_df_2023 = ev_sales_df[ev_sales_df[\"year\"] == year]\n",
    "\n",
    "# drop the year column\n",
    "ev_sales_df_2023 = ev_sales_df_2023.drop(columns=[\"year\"])\n",
    "\n",
    "# filter out regions that are not countries: World, OECD, G20, G7, EU, EU27, EU28, Rest of World, Europe, Asia, North America, South America, Africa, Middle East, Oceania\n",
    "ev_sales_df_2023 = ev_sales_df_2023[~ev_sales_df_2023[\"region\"].isin([\"World\", \"OECD\", \"G20\", \"G7\", \"EU\", \"EU27\", \"EU28\", \"Rest of World\", \"Europe\", \"Asia\", \"North America\", \"South America\", \"Africa\", \"Middle East\", \"Oceania\"])]\n",
    "\n",
    "# aggregate the sales by region\n",
    "ev_sales_df_2023_agg = ev_sales_df_2023.groupby(\"region\")[\"value\"].sum().reset_index()"
   ]
  },
  {
   "cell_type": "code",
   "execution_count": null,
   "metadata": {},
   "outputs": [],
   "source": [
    "#rename the region column to country\n",
    "ev_sales_df_2023_agg = ev_sales_df_2023_agg.rename(columns={\"region\": \"country\"})\n",
    "\n",
    "# rename the column value to sales\n",
    "ev_sales_df_2023_agg = ev_sales_df_2023_agg.rename(columns={\"value\": \"sales\"})\n",
    "\n",
    "#convert the sales column into millions\n",
    "ev_sales_df_2023_agg[\"sales_(m)\"] = ev_sales_df_2023_agg[\"sales\"] / 1000000\n",
    "\n",
    "#round the sales column to 2 decimal places\n",
    "ev_sales_df_2023_agg[\"sales_(m)\"] = ev_sales_df_2023_agg[\"sales_(m)\"].round(2)\n",
    "\n",
    "#drop the sales column\n",
    "ev_sales_df_2023_agg = ev_sales_df_2023_agg.drop(columns=[\"sales\"])\n",
    "\n",
    "#sort the df by the sales column in descending order\n",
    "ev_sales_df_2023_agg = ev_sales_df_2023_agg.sort_values(by=\"sales_(m)\", ascending=False)\n",
    "\n",
    "#reset the index and make it start from 1 \n",
    "ev_sales_df_2023_agg = ev_sales_df_2023_agg.reset_index(drop=True)\n",
    "ev_sales_df_2023_agg.index = ev_sales_df_2023_agg.index + 1\n",
    "\n",
    "# return the top 10 countries\n",
    "return ev_sales_df_2023_agg.head(10)"
   ]
  },
  {
   "cell_type": "code",
   "execution_count": null,
   "metadata": {},
   "outputs": [],
   "source": [
    "def top10_sales_by_country(ev_sales_df, year=2023):\n",
    "\n",
    "    # filter the df to only include the year 2023\n",
    "    ev_sales_df_2023 = ev_sales_df[ev_sales_df[\"year\"] == year]\n",
    "\n",
    "    # drop the year column\n",
    "    ev_sales_df_2023 = ev_sales_df_2023.drop(columns=[\"year\"])\n",
    "\n",
    "    # filter out regions that are not countries: World, OECD, G20, G7, EU, EU27, EU28, Rest of World, Europe, Asia, North America, South America, Africa, Middle East, Oceania\n",
    "    ev_sales_df_2023 = ev_sales_df_2023[~ev_sales_df_2023[\"region\"].isin([\"World\", \"OECD\", \"G20\", \"G7\", \"EU\", \"EU27\", \"EU28\", \"Rest of World\", \"Europe\", \"Asia\", \"North America\", \"South America\", \"Africa\", \"Middle East\", \"Oceania\"])]\n",
    "\n",
    "    # aggregate the sales by region\n",
    "    ev_sales_df_2023_agg = ev_sales_df_2023.groupby(\"region\")[\"value\"].sum().reset_index()\n",
    "    #rename the region column to country\n",
    "    ev_sales_df_2023_agg = ev_sales_df_2023_agg.rename(columns={\"region\": \"country\"})\n",
    "    # rename the column value to sales\n",
    "    ev_sales_df_2023_agg = ev_sales_df_2023_agg.rename(columns={\"value\": \"sales\"})\n",
    "\n",
    "    #convert the sales column into millions\n",
    "    ev_sales_df_2023_agg[\"sales_(m)\"] = ev_sales_df_2023_agg[\"sales\"] / 1000000\n",
    "\n",
    "    #round the sales column to 2 decimal places\n",
    "    ev_sales_df_2023_agg[\"sales_(m)\"] = ev_sales_df_2023_agg[\"sales_(m)\"].round(2)\n",
    "\n",
    "    #drop the sales column\n",
    "    ev_sales_df_2023_agg = ev_sales_df_2023_agg.drop(columns=[\"sales\"])\n",
    "\n",
    "    #sort the df by the sales column in descending order\n",
    "    ev_sales_df_2023_agg = ev_sales_df_2023_agg.sort_values(by=\"sales_(m)\", ascending=False)\n",
    "\n",
    "    #reset the index and make it start from 1 \n",
    "    ev_sales_df_2023_agg = ev_sales_df_2023_agg.reset_index(drop=True)\n",
    "    ev_sales_df_2023_agg.index = ev_sales_df_2023_agg.index + 1\n",
    "\n",
    "    # return the top 10 countries\n",
    "    return ev_sales_df_2023_agg.head(10)"
   ]
  }
 ],
 "metadata": {
  "kernelspec": {
   "display_name": "base",
   "language": "python",
   "name": "python3"
  },
  "language_info": {
   "codemirror_mode": {
    "name": "ipython",
    "version": 3
   },
   "file_extension": ".py",
   "mimetype": "text/x-python",
   "name": "python",
   "nbconvert_exporter": "python",
   "pygments_lexer": "ipython3",
   "version": "3.12.7"
  }
 },
 "nbformat": 4,
 "nbformat_minor": 2
}
